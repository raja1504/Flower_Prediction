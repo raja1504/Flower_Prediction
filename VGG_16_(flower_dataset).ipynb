{
  "nbformat": 4,
  "nbformat_minor": 0,
  "metadata": {
    "colab": {
      "provenance": []
    },
    "kernelspec": {
      "name": "python3",
      "display_name": "Python 3"
    },
    "language_info": {
      "name": "python"
    }
  },
  "cells": [
    {
      "cell_type": "code",
      "source": [
        "base='/content/sample_data/flower'\n",
        "import os\n",
        "os.listdir\n",
        "folder=os.listdir(base)\n",
        "folder"
      ],
      "metadata": {
        "id": "4QkBDMhHAaJM",
        "colab": {
          "base_uri": "https://localhost:8080/"
        },
        "outputId": "8c533332-92da-45ae-9dd9-9173a35d49db"
      },
      "execution_count": null,
      "outputs": [
        {
          "output_type": "execute_result",
          "data": {
            "text/plain": [
              "['rose', '.ipynb_checkpoints', 'daisy']"
            ]
          },
          "metadata": {},
          "execution_count": 1
        }
      ]
    },
    {
      "cell_type": "code",
      "source": [
        "import cv2 #open cv libray we can using it images operations\n",
        "x=[]\n",
        "y=[]\n",
        "for i in folder:\n",
        "  for j in os.listdir(base+'/'+i):\n",
        "    print(j)\n",
        "    a=j.split('.')\n",
        "    if a[1]=='jpg':\n",
        "      p=cv2.imread(base+'/'+i+'/'+j) #imread:- is used to convert 2d,3d image to 2d,3d matrix\n",
        "      r=cv2.resize(p,(224,224)) #resize():- a cv2 method, to change image dimension\n",
        "      x.append(r)\n",
        "      y.append(i)\n"
      ],
      "metadata": {
        "id": "B4zsBkwzB4u1",
        "colab": {
          "base_uri": "https://localhost:8080/"
        },
        "outputId": "d11948be-a5dc-44b6-921d-259aa7fc2983"
      },
      "execution_count": null,
      "outputs": [
        {
          "output_type": "stream",
          "name": "stdout",
          "text": [
            "rose1.jpg\n",
            "rose2.jpg\n",
            "daisy2.jpg\n",
            "daisy1.jpg\n"
          ]
        }
      ]
    },
    {
      "cell_type": "code",
      "source": [
        "y"
      ],
      "metadata": {
        "id": "SLAlxs3yGbQv",
        "colab": {
          "base_uri": "https://localhost:8080/"
        },
        "outputId": "3cff9295-2188-4d34-ea5b-655aa9e21be1"
      },
      "execution_count": null,
      "outputs": [
        {
          "output_type": "execute_result",
          "data": {
            "text/plain": [
              "['rose', 'rose', 'daisy', 'daisy']"
            ]
          },
          "metadata": {},
          "execution_count": 3
        }
      ]
    },
    {
      "cell_type": "code",
      "source": [
        "import numpy as np\n",
        "xarr=np.array(x)\n",
        "yarr=np.array(y)\n",
        "xarrr=xarr/255\n",
        "xarr.shape"
      ],
      "metadata": {
        "colab": {
          "base_uri": "https://localhost:8080/"
        },
        "id": "I4LdH3RFHDPy",
        "outputId": "e65a0c49-5903-4b6f-b9bc-e83848d990b6"
      },
      "execution_count": null,
      "outputs": [
        {
          "output_type": "execute_result",
          "data": {
            "text/plain": [
              "(4, 224, 224, 3)"
            ]
          },
          "metadata": {},
          "execution_count": 4
        }
      ]
    },
    {
      "cell_type": "code",
      "source": [
        "# convert y in numeric form\n",
        "for i in range(len(y)):\n",
        "  if y[i]=='rose':\n",
        "    y[i]=0\n",
        "  else:\n",
        "    y[i]=1\n",
        "y"
      ],
      "metadata": {
        "colab": {
          "base_uri": "https://localhost:8080/"
        },
        "id": "71D9GCvCJYEn",
        "outputId": "b4c134f6-6be5-49e5-8361-d1a5b6c2337b"
      },
      "execution_count": null,
      "outputs": [
        {
          "output_type": "execute_result",
          "data": {
            "text/plain": [
              "[0, 0, 1, 1]"
            ]
          },
          "metadata": {},
          "execution_count": 5
        }
      ]
    },
    {
      "cell_type": "code",
      "source": [
        "from keras.applications.vgg16 import  VGG16\n",
        "v=VGG16(input_shape=[224,224,3],weights='imagenet',include_top=False) #include_top:- it means optput layer remove or not\n",
        "v.summary()"
      ],
      "metadata": {
        "colab": {
          "base_uri": "https://localhost:8080/"
        },
        "id": "LrnfAGyjJy4r",
        "outputId": "8f4b81e4-6805-424b-9703-8fcead4d0d57"
      },
      "execution_count": null,
      "outputs": [
        {
          "output_type": "stream",
          "name": "stdout",
          "text": [
            "Downloading data from https://storage.googleapis.com/tensorflow/keras-applications/vgg16/vgg16_weights_tf_dim_ordering_tf_kernels_notop.h5\n",
            "58889256/58889256 [==============================] - 0s 0us/step\n",
            "Model: \"vgg16\"\n",
            "_________________________________________________________________\n",
            " Layer (type)                Output Shape              Param #   \n",
            "=================================================================\n",
            " input_1 (InputLayer)        [(None, 224, 224, 3)]     0         \n",
            "                                                                 \n",
            " block1_conv1 (Conv2D)       (None, 224, 224, 64)      1792      \n",
            "                                                                 \n",
            " block1_conv2 (Conv2D)       (None, 224, 224, 64)      36928     \n",
            "                                                                 \n",
            " block1_pool (MaxPooling2D)  (None, 112, 112, 64)      0         \n",
            "                                                                 \n",
            " block2_conv1 (Conv2D)       (None, 112, 112, 128)     73856     \n",
            "                                                                 \n",
            " block2_conv2 (Conv2D)       (None, 112, 112, 128)     147584    \n",
            "                                                                 \n",
            " block2_pool (MaxPooling2D)  (None, 56, 56, 128)       0         \n",
            "                                                                 \n",
            " block3_conv1 (Conv2D)       (None, 56, 56, 256)       295168    \n",
            "                                                                 \n",
            " block3_conv2 (Conv2D)       (None, 56, 56, 256)       590080    \n",
            "                                                                 \n",
            " block3_conv3 (Conv2D)       (None, 56, 56, 256)       590080    \n",
            "                                                                 \n",
            " block3_pool (MaxPooling2D)  (None, 28, 28, 256)       0         \n",
            "                                                                 \n",
            " block4_conv1 (Conv2D)       (None, 28, 28, 512)       1180160   \n",
            "                                                                 \n",
            " block4_conv2 (Conv2D)       (None, 28, 28, 512)       2359808   \n",
            "                                                                 \n",
            " block4_conv3 (Conv2D)       (None, 28, 28, 512)       2359808   \n",
            "                                                                 \n",
            " block4_pool (MaxPooling2D)  (None, 14, 14, 512)       0         \n",
            "                                                                 \n",
            " block5_conv1 (Conv2D)       (None, 14, 14, 512)       2359808   \n",
            "                                                                 \n",
            " block5_conv2 (Conv2D)       (None, 14, 14, 512)       2359808   \n",
            "                                                                 \n",
            " block5_conv3 (Conv2D)       (None, 14, 14, 512)       2359808   \n",
            "                                                                 \n",
            " block5_pool (MaxPooling2D)  (None, 7, 7, 512)         0         \n",
            "                                                                 \n",
            "=================================================================\n",
            "Total params: 14,714,688\n",
            "Trainable params: 14,714,688\n",
            "Non-trainable params: 0\n",
            "_________________________________________________________________\n"
          ]
        }
      ]
    },
    {
      "cell_type": "code",
      "source": [
        "v.trainable=False\n",
        "v.summary()"
      ],
      "metadata": {
        "id": "aBCzWWmTNenc"
      },
      "execution_count": null,
      "outputs": []
    },
    {
      "cell_type": "code",
      "source": [
        "from keras.models import Sequential\n",
        "from keras.layers import Flatten\n",
        "from keras.layers import Dense\n",
        "model=Sequential()\n",
        "model.add(v)\n",
        "model.add(Flatten())\n",
        "model.add(Dense(1,activation='sigmoid'))\n",
        "model.summary()"
      ],
      "metadata": {
        "colab": {
          "base_uri": "https://localhost:8080/"
        },
        "id": "AoLlxicSOPDm",
        "outputId": "ef0bcfbe-8b9c-46b0-a250-cc133db13a15"
      },
      "execution_count": null,
      "outputs": [
        {
          "output_type": "stream",
          "name": "stdout",
          "text": [
            "Model: \"sequential\"\n",
            "_________________________________________________________________\n",
            " Layer (type)                Output Shape              Param #   \n",
            "=================================================================\n",
            " vgg16 (Functional)          (None, 7, 7, 512)         14714688  \n",
            "                                                                 \n",
            " flatten (Flatten)           (None, 25088)             0         \n",
            "                                                                 \n",
            " dense (Dense)               (None, 1)                 25089     \n",
            "                                                                 \n",
            "=================================================================\n",
            "Total params: 14,739,777\n",
            "Trainable params: 25,089\n",
            "Non-trainable params: 14,714,688\n",
            "_________________________________________________________________\n"
          ]
        }
      ]
    },
    {
      "cell_type": "code",
      "source": [
        "model.compile(optimizer='Adam',\n",
        "              loss='binary_crossentropy',\n",
        "              metrics=['accuracy'])"
      ],
      "metadata": {
        "id": "yAJhRbmrPr3F"
      },
      "execution_count": null,
      "outputs": []
    },
    {
      "cell_type": "code",
      "source": [
        "from keras.callbacks import EarlyStopping,ModelCheckpoint\n",
        "es=EarlyStopping(monitor='accuracy',min_delta=0,patience=3)\n",
        "mcp=ModelCheckpoint('mymodel.hdf5',save_best_only=True)"
      ],
      "metadata": {
        "id": "lh9R9VWrQbCp"
      },
      "execution_count": null,
      "outputs": []
    },
    {
      "cell_type": "code",
      "source": [
        "model.fit(xarr,yarr,epochs=10,\n",
        "          validation_data=(xarr,yarr),\n",
        "          batch_size=2,\n",
        "          callbacks=[es,mcp])"
      ],
      "metadata": {
        "id": "Y-sE004-Qxm3"
      },
      "execution_count": null,
      "outputs": []
    },
    {
      "cell_type": "code",
      "source": [
        "from keras.models import load_model\n",
        "my_model=load_model('mymodel.hdf5')"
      ],
      "metadata": {
        "id": "nnEHN2O5VPWa"
      },
      "execution_count": null,
      "outputs": []
    },
    {
      "cell_type": "code",
      "source": [
        "import matplotlib.pyplot as plt\n",
        "plt.imshow(xarr[1])"
      ],
      "metadata": {
        "id": "VnITekkBVmnL"
      },
      "execution_count": null,
      "outputs": []
    },
    {
      "cell_type": "code",
      "source": [
        "my_model.predict(xarr)"
      ],
      "metadata": {
        "id": "fm9ZpC7_V14A"
      },
      "execution_count": null,
      "outputs": []
    },
    {
      "cell_type": "code",
      "source": [
        "a=model.predict(xarr)\n",
        "a.shape\n",
        "b=a[3]\n",
        "import numpy as np\n",
        "j=np.argmax(b)\n",
        "b=[0,0,0,0,0,0,0,0,0,0]\n",
        "b[j]=1\n",
        "b"
      ],
      "metadata": {
        "id": "u21V_QHCXpl1"
      },
      "execution_count": null,
      "outputs": []
    },
    {
      "cell_type": "code",
      "source": [
        "import matplotlib.pyplot as plt\n",
        "for i in range(0,4):\n",
        "  plt.imshow(xarr[i])"
      ],
      "metadata": {
        "id": "tQjbvSOWa03P"
      },
      "execution_count": null,
      "outputs": []
    }
  ]
}